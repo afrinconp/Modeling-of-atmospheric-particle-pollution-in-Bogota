{
 "cells": [
  {
   "cell_type": "markdown",
   "metadata": {},
   "source": [
    "**Predicción del material particulado en Bogotá**"
   ]
  },
  {
   "cell_type": "markdown",
   "metadata": {},
   "source": [
    "# Presentación del Proyecto "
   ]
  },
  {
   "cell_type": "markdown",
   "metadata": {},
   "source": [
    "## Autores"
   ]
  },
  {
   "cell_type": "markdown",
   "metadata": {},
   "source": [
    "1. Andrés Sebastian Rios Gutierrez, asriosg@unal.edu.co\n",
    "2. Nicolás Rivera Garzón, nriverag@unal.edu.co \n",
    "3. Andrés Felipe Rincón, afrinconp@unal.edu.co"
   ]
  },
  {
   "cell_type": "markdown",
   "metadata": {},
   "source": [
    "## Contenido"
   ]
  },
  {
   "cell_type": "markdown",
   "metadata": {},
   "source": [
    "* [Presentación del problema](#Presentación-del-problema)\n",
    "* [Objetivos](#Objetivos)\n",
    "* [Metodología](#Metodología)\n",
    "* [Datos](#Datos)\n",
    "* [Referencias](#Referencias)"
   ]
  },
  {
   "cell_type": "markdown",
   "metadata": {},
   "source": [
    "## Presentación del problema <a name=\"Presentación-del-problema\"></a> \n",
    "La [Agencia de Protección Ambiental de Estados Unidos](https://www.epa.gov/pm-pollution/particulate-matter-pm-basics#effects) define el material particulado (**PM**) como una mezcla de partículas sólidas y gotitas líquidas que se encuentran en el aire. Algunas partículas, como el polvo, la suciedad, el hollín o el humo, son lo suficientemente grandes u oscuras para ser vistas a simple vista. Otros son tan pequeños que solo se pueden detectar con un microscopio electrónico.\n",
    "\n",
    "La polución de **PM** incluye: \n",
    "- **$PM_{10}$:** partículas inhalables, con diámetros que generalmente son de 10 micrómetros o menos. \n",
    "- **$PM_{2.5}$:** partículas finas inhalables, con diámetros que generalmente son de 2,5 micrómetros o menos.\n",
    "\n",
    "Estas partículas vienen en muchos tamaños y formas y pueden estar compuestas por cientos de sustancias químicas diferentes. Algunos se emiten directamente desde una fuente, como sitios de construcción, caminos sin pavimentar, campos, chimeneas o incendios. La mayoría de las partículas se forman en la atmósfera como resultado de reacciones complejas de sustancias químicas como el dióxido de azufre y los óxidos de nitrógeno, que son contaminantes emitidos por centrales eléctricas, industrias y automóviles.\n",
    "\n",
    "Las **PM** tienen efectos adversos para la salud de los habitantes de una ciudad, la exposición a tales partículas puede afectar tanto los pulmones como el corazón. Numerosos estudios científicos han relacionado la exposición a la contaminación por partículas con una variedad de problemas, que incluyen:\n",
    "- Muerte prematura en personas con enfermedades cardíacas o pulmonares.\n",
    "- Ataques cardíacos no fatales.\n",
    "- Latidos irregulares del corazón.\n",
    "- Asma agravada\n",
    "- Disminución de la función pulmonar. \n",
    "- Aumento de enfermedades respiratorias e infecciones respiratorias agudas (IRA). \n",
    "\n",
    "El Distrito Capital cuenta con la Red de Monitoreo de Calidad del Aire de Bogotá – RMCAB, la cual permite recolectar información sobre la concentración de contaminantes y variables meteorológicas de forma continua en diferentes lugares de la ciudad. El proceso inicia con la medición de los parámetros en cada estación y el almacenamiento de los mismos en un datalogger, luego cada hora se actualizan los datos y son transmitidos hacia el servidor central, donde se almacena la información en una base de datos. Esta información es validada desde su captura en los equipos, hasta su revisión en la sede central, con el fin de obtener los datos para la elaboración de los informes periódicos de calidad del aire.\n",
    "\n",
    "Para el año 2019 la RMCAB estaba conformada por catorce (14) estaciones de monitoreo de las cuales doce (12) son fijas, una (1) meteorológica y una (1) móvil. Están ubicadas en sitios estratégicos de la ciudad, dotadas con equipos automáticos que permiten realizar un monitoreo continuo de las concentraciones de contaminantes criterio: material particulado ($PM_{10}$, $PM_{2.5}$), y gases contaminantes ($SO2$, $NO2$, $CO$, $O3$), así como de las variables meteorológicas de Precipitación, Velocidad y Dirección del Viento, Temperatura, Radiación Solar, Humedad Relativa y Presión Barométrica.\n",
    "\n",
    "En el [Informe anual de calidad del aire de Bogotá del año 2019](http://rmcab.ambientebogota.gov.co/Pagesfiles/IA%20200531%20Informe%20Anual%20de%20Calidad%20del%20Aire%20A%C3%B1o%202019.pdf), la Red de Monitoreo de Calidad del Aire (RMCAB) de la Secretaría Distrital de Ambiente, en los efectos a corto plazo destaca que cada 10 μg/m3 de elevación del $PM_{10}$ provocan un aumento del 0,31% de mortalidad cardiopulmonar diaria. A largo plazo, los efectos están más relacionados con el $PM_{2.5}$. Se demostró que aumentan un 24% los eventos cardiovasculares y un 76% las muertes por causa cardiovascular por cada 10 μg/m3 de aumento. Un incremento de 10 μg/m3 de $PM_{10}$ produce un aumento del 8% en las consultas por IRA en los menores de 14 años. El aumento de $PM_{10}$ ocasiona un incremento del 4% en las consultas por IRA en menores de 5 años 6 días después de la exposición en localidades como Puente Aranda. \n",
    "\n",
    "En el [Informe Trimestral de Calidad del Aire: Julio, Agosto y Septiembre de 2020](http://rmcab.ambientebogota.gov.co/Pagesfiles/Tercer%20informe%20trimestral%20calidad%20del%20aire%20JAS%202020.pdf) de la RMCAB se expone que las mayores concentraciones de $PM_{10}$ como promedio diario trimestral se presentaron en el suroccidente en la estación Carvajal-Sevillana (62.6 μg/m3), y en la estación Kennedy (37.4 μg/m3), mientras que las menores concentraciones se presentaron en el centro de la ciudad, en la estación MinAmbiente (14.1 μg/m³), y en Centro de Alto Rendimiento (15.1 μg/m³). La concentración máxima diaria para el mes fue de 112.2 μg/m3 en la estación Carvajal-Sevillana el 22 de septiembre, la cual sobrepasó el nivel máximo permisible para concentraciones diarias. Las concentraciones de PM10 permanecieron bajas en el mes de julio y la mayor parte de agosto, ya que el viento contribuyó con la dispersión de contaminantes, sin embargo el reinicio de actividades en el mes de septiembre, generó un incremento notable de las concentraciones, especialmente al suroccidente de la ciudad.\n",
    "\n",
    "En cuanto al comportamiento de $PM_{2.5}$, se observa que las mayores concentraciones como promedio diario en el trimestre se presentaron en el suroccidente de la ciudad en la estación Carvajal - Sevillana con 25.2 μg/m³ y en Kennedy con 17.2 μg/m³; mientras que las menores concentraciones se presentaron en las estaciones San Cristóbal con 5.4 μg/m³ y MinAmbiente con 8.0 μg/m³. La concentración máxima diaria para el trimestre fue de 42.6 μg/m3 en la estación Carvajal - Sevillana el día 22 de septiembre, la cual excedió el nivel máximo permisible establecido para el contaminante (37 μg/m³). La cantidad de material particulado aumenta considerablemente cuando hay una gran capa de smog en la ciudad, hecho que ocurre durante las temporadas secas.\n",
    "\n",
    "La alta concetración de $PM_{2.5}$ se evidencia en la siguiente gráfica: \n",
    "<figure>\n",
    "<center>\n",
    "<img src=\"mapapm2.5.PNG\" width=\"200\" height=\"100\" align=\"center\"/>\n",
    "</center>\n",
    "<figcaption>\n",
    "<p style=\"text-align:center\">Mapa de concentración de $PM_{2.5}$ en Bogotá D.C.</p>\n",
    "</figcaption>\n",
    "</figure>\n",
    "\n",
    "Fuente: [IBOCA](http://iboca.ambientebogota.gov.co/mapa/)"
   ]
  },
  {
   "cell_type": "markdown",
   "metadata": {},
   "source": [
    "## Objetivos <a name=\"Objetivos\"></a> \n",
    "Teniendo en cuenta el contexto anterior, los objetivos del proyecto son: \n",
    "- Predecir las ubicaciones donde los niveles de $PM_{10}$ y $PM_{2.5}$ tienen una alta concentración. \n",
    "- Estimar los niveles de $PM_{10}$ y $PM_{2.5}$ para las estaciones metereológicas donde no se tienen dichos valores.\n",
    "- Establecer en un día cualquiera del año donde es peligroso respirar por la alta presencia de material particulado.\n",
    "\n",
    "Los objetivos del proyecto se ejecutan para predecir los datos de 2021. "
   ]
  },
  {
   "cell_type": "markdown",
   "metadata": {},
   "source": [
    "## Metodología <a name=\"Metodología\"></a> "
   ]
  },
  {
   "cell_type": "markdown",
   "metadata": {},
   "source": [
    "Siguiendo la metodología presentada en [Bozdağ et al. (2020)](https://doi.org/10.1016/j.envpol.2020.114635) y [Shahriar et al. (2020)](https://doi.org/10.1007/s11869-020-00878-8) las definiciones de los modelos a aplicar son: \n",
    "1. **Prophet:** se implementa la descomposición de la serie temporal con tres componentes principales que son la estacionalidad, tendencia y vacaciones. Con lo que el modelo toma la forma de: \n",
    "$$y(t)=g(t)+s(t)+h(t)+\\varepsilon_t$$ \n",
    "donde $g(t)$ es la función de tendencia que modela los cambios no periódicos en el valor de la serie de tiempo, $s(t)$ son cambios periódicos (estacionalidad semanal y anual), $h(t)$ son los efectos de las vacaciones que ocurren en horarios potencialmente irregulares durante uno o más días y $\\varepsilon_t$ es cualquier cambio idiosincrásico que no se adapta al modelo.\n",
    "\n",
    "2. **Red Neuronal:** son modelos que se basan en las interacciones de las neuronas transfiriendo señales a otro junto con conexiones ponderadas. Además, en las redes neuronales, cada neurona se acopla con todas las neuronas precedentes y sigue el capas por enlaces. En la capa de entrada, cada entrada el valor se considera una neurona. Para el éxito de ANN, todos los valores de entrada deben ponderarse en primer lugar, y luego, los valores ponderados se procesan en las capas ocultas. En esa capa, cada neurona produce valores de salida. Con lo que el modelo toma la forma de: \n",
    "$$o=f\\left(\\sum_{j=0}^{n}w_{ij}x_{j}\\right)$$\n",
    "donde $f$ es una función no lineal, $x_{j}$ es el valor de entrada $j$ de la neurona, $v_{j}$ es un peso sináptico y $n$ es el número de valores de entrada. \n",
    "\n",
    "3. **Máquina de soporte vectorial y de media gaussiana:** la máquina de soporte vectorial (SVM) opera con la fórmula: \n",
    "\\begin{align*}\n",
    "\\hat{Y}_0 &= \\sum_{i=1}^{n}K(X_i,X_0)(\\alpha_i -\\alpha_i^*);K(X_i,X_0) \\\\\n",
    "&= exp(-|x_i - x_j|^2)/Y\n",
    "\\end{align*}\n",
    "donde $\\alpha_i$ y $\\alpha_i^*$ son los vectores de soporte y $K(X_i,X_0)$ es la función del núcleo de base radial. La práctica de una función de kernel adecuada (KF) es una de las principales características de las aplicaciones SVM, ya que las SVM se caracterizan por el uso de KF. Esta proporciona la capacidad de representar datos no lineales en los espacios de entrada que en esencia son lineales; luego, se puede aplicar un procedimiento de optimización como en el caso lineal. La función del núcleo gaussiano (GKF) se define como: \n",
    "$$K(X_i,X_0)=exp\\left(\\frac{-||x_i-x_j||^2}{2\\sigma^2}\\right)$$\n",
    "La GKF proporciona una estimación de la consistencia del pronóstico en la forma de la varianza de la distribución predictiva y el análisis se puede utilizar para estimar la evidencia a favor de una elección particular de la función de covarianza.\n",
    "4. **Proceso de regresión gaussiano:** Los modelos de proceso gaussianos (GPM) son modelos probabilísticos y no paramétricos que generalmente trabajan sobre los principios básicos de la probabilidad bayesiana. Se inferiere un mapeo de un conjunto de vectores de regresión de dimensión $D$ denotados por la matriz de regresión $\\mathbf{X} = [x1, x2,\\dots, xn]^T$ a un vector de datos de salida $y$. Esto denotato por: \n",
    "$$D=(x_{ij},y_{i})_{i=1}^{N};x_i \\in \\mathbf{X}; y_i \\in \\mathbb{R}$$\n",
    "el output $y$ se asume como una realizaciones ruidosa de la función subyacente $f(xi)$. El interés del estudio está en estimar el logaritmo de verosimilitud marginal:\n",
    "$$l(\\theta):-\\frac{1}{2}log(|k|)-\\frac{1}{2}y^T k^-1y-\\frac{N}{2}log(2\\pi)$$ \n",
    "5. **Random forest:**  es un algoritmo de aprendizaje supervisado, en el que se deben determinar tres propiedades. El número de predictores que se utilizan para hacer cada árbol (mtry), el número de árboles en el bosque (ntree) y el número mínimo de nodos terminales (nodesize). Sin embargo, el rendimiento predictivo del modelo de RF se mejora al aumentar la fuerza del árbol y disminuir el número de correlaciones entre árboles. En primer lugar, el número $n$ de subconjunto de muestra de entrenamiento se expresa como $D1, D2, \\dots, Dn$ del conjunto de datos de entrenamiento total $D$ usando $BS$. En segundo lugar, en función de los subconjuntos, se crea un número $n$ de árboles de regresión. En consecuencia, se obtiene un número $n$ de resultado de regresión. Finalmente, el resultado óptimo se establece agregando los resultados de cada árbol de regresión.\n",
    "\n",
    "El desempeño de los modelos se evalua con base en el coeficiente de determinación $R^2$, error cuadrático medio (RMSE) y error absoluto medio (MAE): \n",
    "$$R^2=\\frac{\\sum_{i=1}^{n}(y_i-\\bar{y})^2}{\\sum_{i=1}^{n}(x_i-\\bar{x})^2}$$\n",
    "$$RMSE=\\sqrt{\\frac{\\sum_{i=1}^{n}(x_i - y_i)^2}{n}}$$\n",
    "$$MAE=\\frac{1}{n}\\sum_{i=1}^{n}|x_i-y_i|$$"
   ]
  },
  {
   "cell_type": "markdown",
   "metadata": {},
   "source": [
    "## Datos <a name=\"Datos\"></a> "
   ]
  },
  {
   "cell_type": "markdown",
   "metadata": {},
   "source": [
    "El Distrito Capital cuenta con la Red de Monitoreo de Calidad del Aire de Bogotá (RMCAB), que permite recolectar información sobre la concentración de contaminantes y variables meteorológicas en forma continua y permanente. Cuenta con 13 estaciones de medición fijas automáticas y una estación móvil. Los objetivos de la red son: \n",
    "- Evaluar el cumplimiento de estándares de calidad del aire en la ciudad de acuerdo a la Resolución 610 de 2010. \n",
    "- Conocer los niveles de contaminación atmosférica en las diferentes zonas de la ciudad. \n",
    "- Dar información sobre la tendencia de los contaminantes en la ciudad. \n",
    "- Proveer información necesaria para diseñar políticas en el manejo de calidad del aire. \n",
    "- Proveer información para evaluar la efectividad de las medidas implementadas. \n",
    "\n",
    "<figure>\n",
    "<center>\n",
    "<img src=\"calidadaire.PNG\" width=\"200\" height=\"100\" align=\"center\"/>\n",
    "</center>\n",
    "<figcaption>\n",
    "<p style=\"text-align:center\">Puntos Red de Monitoreo de la Calidad de Aire de Bogotá.</p>\n",
    "</figcaption>\n",
    "</figure>\n",
    "\n",
    "Fuente: RMCAB\n",
    "\n",
    "Para descargar los datos, se accede a la página de la [RMCAB](http://201.245.192.252:81/home/map) y en la sección de reportes se llega al siguiente aplicativo: \n",
    "\n",
    "<figure>\n",
    "<center>\n",
    "<img src=\"Captura.PNG\" width=\"200\" height=\"100\" align=\"center\"/>\n",
    "</center>\n",
    "<figcaption>\n",
    "<p style=\"text-align:center\">Aplicativo RMCAB</p>\n",
    "</figcaption>\n",
    "</figure>\n",
    "\n",
    "Fuente: [Aplicativo RMCAB](http://iboca.ambientebogota.gov.co/mapa/)\n",
    "\n",
    "Una vez en el aplicativo se pueden descargar informes en formato Excel por estación con los siguientes parámetros: \n",
    "- Variable(s) requerida(s) (contaminantes o variables meteorológicas).\n",
    "- Presentación del reporte (tabular, gráfico o exportado a una hoja de cálculo).\n",
    "- Periodicidad (diario, semanal, mensual, periódico, reciente). Para el caso de la opción periódico, se debe poner el rango de fechas de la información requerida. En reporte diario, semanal y mensual solamente se tendrá en cuenta la fecha de inicio.\n",
    "- Parámetro estadístico requerido (mínimo, máximo, promedio).\n",
    "- Resolución temporal de la información.\n",
    "\n",
    "Teniendo en cuenta el procedimiento anterior, se cuenta con datos de 18 estaciones para el periodo del 1 de enero de 2015 al 31 de marzo de 2021. Las estaciones reportan el promedio de material particulado por hora durante todos los días.\n",
    "\n",
    "Un reto a la hora de tratar con datos de monitoreo meteorológico es el tratamiento de los datos faltantes, ya que las estaciones tiene periodos de inactividad, reperación o apagado. Esto hace que la series de tiempo tengan que pasar por un proceso de imputación. Esto se muestra en un Notebook aparte. "
   ]
  },
  {
   "cell_type": "markdown",
   "metadata": {},
   "source": [
    "## Referencias <a name=\"Referencias\"></a> "
   ]
  },
  {
   "cell_type": "markdown",
   "metadata": {},
   "source": [
    "Agencia de Protección Ambiental de Estados Unidos. (2020). [Particulate Matter (PM) Pollution](https://www.epa.gov/pm-pollution/particulate-matter-pm-basics#effects)\n",
    "\n",
    "\n",
    "Bozdağ, A., Dokuz, Y., & Gökçek, Z. B. (2020). Spatial prediction of PM10 concentration using machine learning algorithms in Ankara, Turkey. Environmental Pollution, 263, 114635. https://doi.org/10.1016/j.envpol.2020.114635\n",
    "\n",
    "Red de Monitoreo de Calidad del Aire de Bogotá (RMCAB). (2020). [Informe anual de calidad del aire de\n",
    "Bogotá Año 2019](http://rmcab.ambientebogota.gov.co/Pagesfiles/IA%20200531%20Informe%20Anual%20de%20Calidad%20del%20Aire%20A%C3%B1o%202019.pdf). \n",
    "\n",
    "Secretaria Distrital de Ambiente. (2020). Informe Tecnico No. 02171, 29 de diciembre del 2020: [Informe Trimestral de Calidad del Aire: Julio, Agosto y Septiembre de 2020](http://rmcab.ambientebogota.gov.co/Pagesfiles/Tercer%20informe%20trimestral%20calidad%20del%20aire%20JAS%202020.pdf). \n",
    "\n",
    "Secretaria Distrital de Ambiente. (2017). [Red de Monitoreo de la calidad del aire en Bogotá (RMCAB)](http://rmcab.ambientebogota.gov.co/Pagesfiles/Presentaci%C3%B3n%202017_RMCAB.pdf).\n",
    "\n",
    "Shahriar, S. A., Kayes, I., Hasan, K., Salam, M. A., & Chowdhury, S. (2020). Applicability of machine learning in modeling of atmospheric particle pollution in Bangladesh. Air Quality, Atmosphere & Health, 13(10), 1247–1256. https://doi.org/10.1007/s11869-020-00878-8"
   ]
  },
  {
   "cell_type": "markdown",
   "metadata": {},
   "source": [
    "- [Regresar al inicio](#Contenido)"
   ]
  }
 ],
 "metadata": {
  "kernelspec": {
   "display_name": "Python 3",
   "language": "python",
   "name": "python3"
  },
  "language_info": {
   "codemirror_mode": {
    "name": "ipython",
    "version": 3
   },
   "file_extension": ".py",
   "mimetype": "text/x-python",
   "name": "python",
   "nbconvert_exporter": "python",
   "pygments_lexer": "ipython3",
   "version": "3.8.5"
  }
 },
 "nbformat": 4,
 "nbformat_minor": 4
}
