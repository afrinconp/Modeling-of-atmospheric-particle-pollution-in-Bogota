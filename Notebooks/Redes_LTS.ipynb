{
  "nbformat": 4,
  "nbformat_minor": 0,
  "metadata": {
    "colab": {
      "name": "Redes LTS.ipynb",
      "provenance": [],
      "authorship_tag": "ABX9TyNNr+WU14lvrXcikam71EkN",
      "include_colab_link": true
    },
    "kernelspec": {
      "name": "python3",
      "display_name": "Python 3"
    },
    "language_info": {
      "name": "python"
    }
  },
  "cells": [
    {
      "cell_type": "markdown",
      "metadata": {
        "id": "view-in-github",
        "colab_type": "text"
      },
      "source": [
        "<a href=\"https://colab.research.google.com/github/nriverag/Modeling-of-atmospheric-particle-pollution-in-Bogota/blob/main/Redes_LTS.ipynb\" target=\"_parent\"><img src=\"https://colab.research.google.com/assets/colab-badge.svg\" alt=\"Open In Colab\"/></a>"
      ]
    },
    {
      "cell_type": "code",
      "metadata": {
        "id": "GM8mF1smB0TE"
      },
      "source": [
        "import math # Acá se importan las librerías a utilizar \n",
        "\n",
        "import tensorflow as tf\n",
        "from tensorflow import keras\n",
        "from tensorflow.keras import layers\n",
        "from tensorflow.keras.utils import Sequence\n",
        "from datetime import timedelta\n",
        "from sklearn.preprocessing import MinMaxScaler\n",
        "from sklearn.metrics import mean_squared_error\n",
        "\n",
        "import numpy as np\n",
        "import pandas as pd\n",
        "import time\n",
        "\n",
        "import os"
      ],
      "execution_count": 2,
      "outputs": []
    },
    {
      "cell_type": "code",
      "metadata": {
        "colab": {
          "resources": {
            "http://localhost:8080/nbextensions/google.colab/files.js": {
              "data": "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",
              "ok": true,
              "headers": [
                [
                  "content-type",
                  "application/javascript"
                ]
              ],
              "status": 200,
              "status_text": ""
            }
          },
          "base_uri": "https://localhost:8080/",
          "height": 72
        },
        "id": "bBRPLwBcC2B0",
        "outputId": "7bfe4ad1-41d7-4776-f5c9-de95131029a7"
      },
      "source": [
        "from google.colab import files # Para cargar archivos en google colab \n",
        "uploaded = files.upload()"
      ],
      "execution_count": 3,
      "outputs": [
        {
          "output_type": "display_data",
          "data": {
            "text/html": [
              "\n",
              "     <input type=\"file\" id=\"files-2acc7858-6f98-44ba-af33-e67549bfef6e\" name=\"files[]\" multiple disabled\n",
              "        style=\"border:none\" />\n",
              "     <output id=\"result-2acc7858-6f98-44ba-af33-e67549bfef6e\">\n",
              "      Upload widget is only available when the cell has been executed in the\n",
              "      current browser session. Please rerun this cell to enable.\n",
              "      </output>\n",
              "      <script src=\"/nbextensions/google.colab/files.js\"></script> "
            ],
            "text/plain": [
              "<IPython.core.display.HTML object>"
            ]
          },
          "metadata": {
            "tags": []
          }
        },
        {
          "output_type": "stream",
          "text": [
            "Saving PanelFiltrado.csv to PanelFiltrado.csv\n"
          ],
          "name": "stdout"
        }
      ]
    },
    {
      "cell_type": "code",
      "metadata": {
        "id": "0jx1Rj08EWBq"
      },
      "source": [
        "import pandas as pd \n",
        "import io\n",
        "df2= pd.read_csv(\"PanelFiltrado.csv\", delimiter=\",\", error_bad_lines=False, header=0, decimal=\",\")\n",
        "df2.index=pd.to_datetime(df2[\"Fecha\"])"
      ],
      "execution_count": 112,
      "outputs": []
    },
    {
      "cell_type": "code",
      "metadata": {
        "colab": {
          "base_uri": "https://localhost:8080/"
        },
        "id": "F3scMR8yKyeT",
        "outputId": "0947bdeb-bb4c-47c0-ced3-f54c2b4a365e"
      },
      "source": [
        "df2[\"Estación\"].value_counts()"
      ],
      "execution_count": 113,
      "outputs": [
        {
          "output_type": "execute_result",
          "data": {
            "text/plain": [
              "Fontibón                      54952\n",
              "Puente Aranda                 54952\n",
              "Bosa                          54952\n",
              "Móvil Fontibón                54952\n",
              "Kennedy                       54952\n",
              "Suba                          54952\n",
              "Las Ferias                    54952\n",
              "Guaymaral                     54952\n",
              "Centro de Alto Rendimiento    54952\n",
              "Usme                          54952\n",
              "Tunal                         54952\n",
              "Ministerio de Ambiente        54952\n",
              "San Cristóbal                 54952\n",
              "Colina                        54952\n",
              "Usaquén                       54952\n",
              "Ciudad Bolívar                54952\n",
              "Carvajal-Sevillana            54952\n",
              "Bolivia                       54952\n",
              "Name: Estación, dtype: int64"
            ]
          },
          "metadata": {
            "tags": []
          },
          "execution_count": 113
        }
      ]
    },
    {
      "cell_type": "code",
      "metadata": {
        "colab": {
          "base_uri": "https://localhost:8080/",
          "height": 390
        },
        "id": "jH3gRBLWl4Ji",
        "outputId": "2bd4663e-6ade-4c63-f43e-beac908c64fd"
      },
      "source": [
        "df2.head(10)"
      ],
      "execution_count": 114,
      "outputs": [
        {
          "output_type": "execute_result",
          "data": {
            "text/html": [
              "<div>\n",
              "<style scoped>\n",
              "    .dataframe tbody tr th:only-of-type {\n",
              "        vertical-align: middle;\n",
              "    }\n",
              "\n",
              "    .dataframe tbody tr th {\n",
              "        vertical-align: top;\n",
              "    }\n",
              "\n",
              "    .dataframe thead th {\n",
              "        text-align: right;\n",
              "    }\n",
              "</style>\n",
              "<table border=\"1\" class=\"dataframe\">\n",
              "  <thead>\n",
              "    <tr style=\"text-align: right;\">\n",
              "      <th></th>\n",
              "      <th>Fecha</th>\n",
              "      <th>Fuente</th>\n",
              "      <th>Estación</th>\n",
              "      <th>EstaciónID</th>\n",
              "      <th>Año</th>\n",
              "      <th>Mes</th>\n",
              "      <th>Día</th>\n",
              "      <th>Hora</th>\n",
              "      <th>Unidad</th>\n",
              "      <th>PM10</th>\n",
              "      <th>PM2.5</th>\n",
              "    </tr>\n",
              "    <tr>\n",
              "      <th>Fecha</th>\n",
              "      <th></th>\n",
              "      <th></th>\n",
              "      <th></th>\n",
              "      <th></th>\n",
              "      <th></th>\n",
              "      <th></th>\n",
              "      <th></th>\n",
              "      <th></th>\n",
              "      <th></th>\n",
              "      <th></th>\n",
              "      <th></th>\n",
              "    </tr>\n",
              "  </thead>\n",
              "  <tbody>\n",
              "    <tr>\n",
              "      <th>2015-01-01 01:00:00</th>\n",
              "      <td>2015-01-01 01:00:00</td>\n",
              "      <td>RMCAB</td>\n",
              "      <td>Bolivia</td>\n",
              "      <td>1</td>\n",
              "      <td>2015</td>\n",
              "      <td>1</td>\n",
              "      <td>1</td>\n",
              "      <td>1</td>\n",
              "      <td>mg/m3</td>\n",
              "      <td>NaN</td>\n",
              "      <td>NaN</td>\n",
              "    </tr>\n",
              "    <tr>\n",
              "      <th>2015-01-01 02:00:00</th>\n",
              "      <td>2015-01-01 02:00:00</td>\n",
              "      <td>RMCAB</td>\n",
              "      <td>Bolivia</td>\n",
              "      <td>1</td>\n",
              "      <td>2015</td>\n",
              "      <td>1</td>\n",
              "      <td>1</td>\n",
              "      <td>2</td>\n",
              "      <td>mg/m3</td>\n",
              "      <td>NaN</td>\n",
              "      <td>NaN</td>\n",
              "    </tr>\n",
              "    <tr>\n",
              "      <th>2015-01-01 03:00:00</th>\n",
              "      <td>2015-01-01 03:00:00</td>\n",
              "      <td>RMCAB</td>\n",
              "      <td>Bolivia</td>\n",
              "      <td>1</td>\n",
              "      <td>2015</td>\n",
              "      <td>1</td>\n",
              "      <td>1</td>\n",
              "      <td>3</td>\n",
              "      <td>mg/m3</td>\n",
              "      <td>NaN</td>\n",
              "      <td>NaN</td>\n",
              "    </tr>\n",
              "    <tr>\n",
              "      <th>2015-01-01 04:00:00</th>\n",
              "      <td>2015-01-01 04:00:00</td>\n",
              "      <td>RMCAB</td>\n",
              "      <td>Bolivia</td>\n",
              "      <td>1</td>\n",
              "      <td>2015</td>\n",
              "      <td>1</td>\n",
              "      <td>1</td>\n",
              "      <td>4</td>\n",
              "      <td>mg/m3</td>\n",
              "      <td>NaN</td>\n",
              "      <td>NaN</td>\n",
              "    </tr>\n",
              "    <tr>\n",
              "      <th>2015-01-01 05:00:00</th>\n",
              "      <td>2015-01-01 05:00:00</td>\n",
              "      <td>RMCAB</td>\n",
              "      <td>Bolivia</td>\n",
              "      <td>1</td>\n",
              "      <td>2015</td>\n",
              "      <td>1</td>\n",
              "      <td>1</td>\n",
              "      <td>5</td>\n",
              "      <td>mg/m3</td>\n",
              "      <td>NaN</td>\n",
              "      <td>NaN</td>\n",
              "    </tr>\n",
              "    <tr>\n",
              "      <th>2015-01-01 06:00:00</th>\n",
              "      <td>2015-01-01 06:00:00</td>\n",
              "      <td>RMCAB</td>\n",
              "      <td>Bolivia</td>\n",
              "      <td>1</td>\n",
              "      <td>2015</td>\n",
              "      <td>1</td>\n",
              "      <td>1</td>\n",
              "      <td>6</td>\n",
              "      <td>mg/m3</td>\n",
              "      <td>NaN</td>\n",
              "      <td>NaN</td>\n",
              "    </tr>\n",
              "    <tr>\n",
              "      <th>2015-01-01 07:00:00</th>\n",
              "      <td>2015-01-01 07:00:00</td>\n",
              "      <td>RMCAB</td>\n",
              "      <td>Bolivia</td>\n",
              "      <td>1</td>\n",
              "      <td>2015</td>\n",
              "      <td>1</td>\n",
              "      <td>1</td>\n",
              "      <td>7</td>\n",
              "      <td>mg/m3</td>\n",
              "      <td>NaN</td>\n",
              "      <td>NaN</td>\n",
              "    </tr>\n",
              "    <tr>\n",
              "      <th>2015-01-01 08:00:00</th>\n",
              "      <td>2015-01-01 08:00:00</td>\n",
              "      <td>RMCAB</td>\n",
              "      <td>Bolivia</td>\n",
              "      <td>1</td>\n",
              "      <td>2015</td>\n",
              "      <td>1</td>\n",
              "      <td>1</td>\n",
              "      <td>8</td>\n",
              "      <td>mg/m3</td>\n",
              "      <td>NaN</td>\n",
              "      <td>NaN</td>\n",
              "    </tr>\n",
              "    <tr>\n",
              "      <th>2015-01-01 09:00:00</th>\n",
              "      <td>2015-01-01 09:00:00</td>\n",
              "      <td>RMCAB</td>\n",
              "      <td>Bolivia</td>\n",
              "      <td>1</td>\n",
              "      <td>2015</td>\n",
              "      <td>1</td>\n",
              "      <td>1</td>\n",
              "      <td>9</td>\n",
              "      <td>mg/m3</td>\n",
              "      <td>NaN</td>\n",
              "      <td>NaN</td>\n",
              "    </tr>\n",
              "    <tr>\n",
              "      <th>2015-01-01 10:00:00</th>\n",
              "      <td>2015-01-01 10:00:00</td>\n",
              "      <td>RMCAB</td>\n",
              "      <td>Bolivia</td>\n",
              "      <td>1</td>\n",
              "      <td>2015</td>\n",
              "      <td>1</td>\n",
              "      <td>1</td>\n",
              "      <td>10</td>\n",
              "      <td>mg/m3</td>\n",
              "      <td>NaN</td>\n",
              "      <td>NaN</td>\n",
              "    </tr>\n",
              "  </tbody>\n",
              "</table>\n",
              "</div>"
            ],
            "text/plain": [
              "                                   Fecha Fuente Estación  ...  Unidad  PM10  PM2.5\n",
              "Fecha                                                     ...                     \n",
              "2015-01-01 01:00:00  2015-01-01 01:00:00  RMCAB  Bolivia  ...   mg/m3   NaN    NaN\n",
              "2015-01-01 02:00:00  2015-01-01 02:00:00  RMCAB  Bolivia  ...   mg/m3   NaN    NaN\n",
              "2015-01-01 03:00:00  2015-01-01 03:00:00  RMCAB  Bolivia  ...   mg/m3   NaN    NaN\n",
              "2015-01-01 04:00:00  2015-01-01 04:00:00  RMCAB  Bolivia  ...   mg/m3   NaN    NaN\n",
              "2015-01-01 05:00:00  2015-01-01 05:00:00  RMCAB  Bolivia  ...   mg/m3   NaN    NaN\n",
              "2015-01-01 06:00:00  2015-01-01 06:00:00  RMCAB  Bolivia  ...   mg/m3   NaN    NaN\n",
              "2015-01-01 07:00:00  2015-01-01 07:00:00  RMCAB  Bolivia  ...   mg/m3   NaN    NaN\n",
              "2015-01-01 08:00:00  2015-01-01 08:00:00  RMCAB  Bolivia  ...   mg/m3   NaN    NaN\n",
              "2015-01-01 09:00:00  2015-01-01 09:00:00  RMCAB  Bolivia  ...   mg/m3   NaN    NaN\n",
              "2015-01-01 10:00:00  2015-01-01 10:00:00  RMCAB  Bolivia  ...   mg/m3   NaN    NaN\n",
              "\n",
              "[10 rows x 11 columns]"
            ]
          },
          "metadata": {
            "tags": []
          },
          "execution_count": 114
        }
      ]
    },
    {
      "cell_type": "code",
      "metadata": {
        "id": "Fpplt5tGloJd"
      },
      "source": [
        "df2 = df2.astype({\"PM2.5\": 'float32'})\n",
        "df2 = df2.astype({\"PM10\": 'float32'})\n",
        "df2 = df2.astype({\"Fecha\": 'datetime64[ns]'})"
      ],
      "execution_count": 7,
      "outputs": []
    },
    {
      "cell_type": "code",
      "metadata": {
        "colab": {
          "base_uri": "https://localhost:8080/",
          "height": 492
        },
        "id": "kjbkQO4-mQNW",
        "outputId": "e4e0d0b8-48ad-4c24-c365-d7c9a0a9a8fd"
      },
      "source": [
        "# Tratamiento de fechas y columnas extras\n",
        "guaymaral = df2[df2[\"Estación\"] == \"Guaymaral\"]\n",
        "guaymaral[\"Fecha\"] = pd.date_range(\"01-01-2015 01:00:00\", periods=54952, freq=\"H\")\n",
        "guaymaral.head(10)"
      ],
      "execution_count": 115,
      "outputs": [
        {
          "output_type": "stream",
          "text": [
            "/usr/local/lib/python3.7/dist-packages/ipykernel_launcher.py:3: SettingWithCopyWarning: \n",
            "A value is trying to be set on a copy of a slice from a DataFrame.\n",
            "Try using .loc[row_indexer,col_indexer] = value instead\n",
            "\n",
            "See the caveats in the documentation: https://pandas.pydata.org/pandas-docs/stable/user_guide/indexing.html#returning-a-view-versus-a-copy\n",
            "  This is separate from the ipykernel package so we can avoid doing imports until\n"
          ],
          "name": "stderr"
        },
        {
          "output_type": "execute_result",
          "data": {
            "text/html": [
              "<div>\n",
              "<style scoped>\n",
              "    .dataframe tbody tr th:only-of-type {\n",
              "        vertical-align: middle;\n",
              "    }\n",
              "\n",
              "    .dataframe tbody tr th {\n",
              "        vertical-align: top;\n",
              "    }\n",
              "\n",
              "    .dataframe thead th {\n",
              "        text-align: right;\n",
              "    }\n",
              "</style>\n",
              "<table border=\"1\" class=\"dataframe\">\n",
              "  <thead>\n",
              "    <tr style=\"text-align: right;\">\n",
              "      <th></th>\n",
              "      <th>Fecha</th>\n",
              "      <th>Fuente</th>\n",
              "      <th>Estación</th>\n",
              "      <th>EstaciónID</th>\n",
              "      <th>Año</th>\n",
              "      <th>Mes</th>\n",
              "      <th>Día</th>\n",
              "      <th>Hora</th>\n",
              "      <th>Unidad</th>\n",
              "      <th>PM10</th>\n",
              "      <th>PM2.5</th>\n",
              "    </tr>\n",
              "    <tr>\n",
              "      <th>Fecha</th>\n",
              "      <th></th>\n",
              "      <th></th>\n",
              "      <th></th>\n",
              "      <th></th>\n",
              "      <th></th>\n",
              "      <th></th>\n",
              "      <th></th>\n",
              "      <th></th>\n",
              "      <th></th>\n",
              "      <th></th>\n",
              "      <th></th>\n",
              "    </tr>\n",
              "  </thead>\n",
              "  <tbody>\n",
              "    <tr>\n",
              "      <th>2015-01-01 01:00:00</th>\n",
              "      <td>2015-01-01 01:00:00</td>\n",
              "      <td>RMCAB</td>\n",
              "      <td>Guaymaral</td>\n",
              "      <td>8</td>\n",
              "      <td>2015</td>\n",
              "      <td>1</td>\n",
              "      <td>1</td>\n",
              "      <td>1</td>\n",
              "      <td>mg/m3</td>\n",
              "      <td>40.0</td>\n",
              "      <td>19.2</td>\n",
              "    </tr>\n",
              "    <tr>\n",
              "      <th>2015-01-01 02:00:00</th>\n",
              "      <td>2015-01-01 02:00:00</td>\n",
              "      <td>RMCAB</td>\n",
              "      <td>Guaymaral</td>\n",
              "      <td>8</td>\n",
              "      <td>2015</td>\n",
              "      <td>1</td>\n",
              "      <td>1</td>\n",
              "      <td>2</td>\n",
              "      <td>mg/m3</td>\n",
              "      <td>51.0</td>\n",
              "      <td>41.0</td>\n",
              "    </tr>\n",
              "    <tr>\n",
              "      <th>2015-01-01 03:00:00</th>\n",
              "      <td>2015-01-01 03:00:00</td>\n",
              "      <td>RMCAB</td>\n",
              "      <td>Guaymaral</td>\n",
              "      <td>8</td>\n",
              "      <td>2015</td>\n",
              "      <td>1</td>\n",
              "      <td>1</td>\n",
              "      <td>3</td>\n",
              "      <td>mg/m3</td>\n",
              "      <td>153.0</td>\n",
              "      <td>118.3</td>\n",
              "    </tr>\n",
              "    <tr>\n",
              "      <th>2015-01-01 04:00:00</th>\n",
              "      <td>2015-01-01 04:00:00</td>\n",
              "      <td>RMCAB</td>\n",
              "      <td>Guaymaral</td>\n",
              "      <td>8</td>\n",
              "      <td>2015</td>\n",
              "      <td>1</td>\n",
              "      <td>1</td>\n",
              "      <td>4</td>\n",
              "      <td>mg/m3</td>\n",
              "      <td>120.0</td>\n",
              "      <td>94.3</td>\n",
              "    </tr>\n",
              "    <tr>\n",
              "      <th>2015-01-01 05:00:00</th>\n",
              "      <td>2015-01-01 05:00:00</td>\n",
              "      <td>RMCAB</td>\n",
              "      <td>Guaymaral</td>\n",
              "      <td>8</td>\n",
              "      <td>2015</td>\n",
              "      <td>1</td>\n",
              "      <td>1</td>\n",
              "      <td>5</td>\n",
              "      <td>mg/m3</td>\n",
              "      <td>57.0</td>\n",
              "      <td>40.2</td>\n",
              "    </tr>\n",
              "    <tr>\n",
              "      <th>2015-01-01 06:00:00</th>\n",
              "      <td>2015-01-01 06:00:00</td>\n",
              "      <td>RMCAB</td>\n",
              "      <td>Guaymaral</td>\n",
              "      <td>8</td>\n",
              "      <td>2015</td>\n",
              "      <td>1</td>\n",
              "      <td>1</td>\n",
              "      <td>6</td>\n",
              "      <td>mg/m3</td>\n",
              "      <td>53.0</td>\n",
              "      <td>37.0</td>\n",
              "    </tr>\n",
              "    <tr>\n",
              "      <th>2015-01-01 07:00:00</th>\n",
              "      <td>2015-01-01 07:00:00</td>\n",
              "      <td>RMCAB</td>\n",
              "      <td>Guaymaral</td>\n",
              "      <td>8</td>\n",
              "      <td>2015</td>\n",
              "      <td>1</td>\n",
              "      <td>1</td>\n",
              "      <td>7</td>\n",
              "      <td>mg/m3</td>\n",
              "      <td>61.0</td>\n",
              "      <td>41.2</td>\n",
              "    </tr>\n",
              "    <tr>\n",
              "      <th>2015-01-01 08:00:00</th>\n",
              "      <td>2015-01-01 08:00:00</td>\n",
              "      <td>RMCAB</td>\n",
              "      <td>Guaymaral</td>\n",
              "      <td>8</td>\n",
              "      <td>2015</td>\n",
              "      <td>1</td>\n",
              "      <td>1</td>\n",
              "      <td>8</td>\n",
              "      <td>mg/m3</td>\n",
              "      <td>43.0</td>\n",
              "      <td>33.7</td>\n",
              "    </tr>\n",
              "    <tr>\n",
              "      <th>2015-01-01 09:00:00</th>\n",
              "      <td>2015-01-01 09:00:00</td>\n",
              "      <td>RMCAB</td>\n",
              "      <td>Guaymaral</td>\n",
              "      <td>8</td>\n",
              "      <td>2015</td>\n",
              "      <td>1</td>\n",
              "      <td>1</td>\n",
              "      <td>9</td>\n",
              "      <td>mg/m3</td>\n",
              "      <td>51.0</td>\n",
              "      <td>18.7</td>\n",
              "    </tr>\n",
              "    <tr>\n",
              "      <th>2015-01-01 10:00:00</th>\n",
              "      <td>2015-01-01 10:00:00</td>\n",
              "      <td>RMCAB</td>\n",
              "      <td>Guaymaral</td>\n",
              "      <td>8</td>\n",
              "      <td>2015</td>\n",
              "      <td>1</td>\n",
              "      <td>1</td>\n",
              "      <td>10</td>\n",
              "      <td>mg/m3</td>\n",
              "      <td>39.0</td>\n",
              "      <td>24.2</td>\n",
              "    </tr>\n",
              "  </tbody>\n",
              "</table>\n",
              "</div>"
            ],
            "text/plain": [
              "                                  Fecha Fuente   Estación  ...  Unidad   PM10  PM2.5\n",
              "Fecha                                                      ...                      \n",
              "2015-01-01 01:00:00 2015-01-01 01:00:00  RMCAB  Guaymaral  ...   mg/m3   40.0   19.2\n",
              "2015-01-01 02:00:00 2015-01-01 02:00:00  RMCAB  Guaymaral  ...   mg/m3   51.0   41.0\n",
              "2015-01-01 03:00:00 2015-01-01 03:00:00  RMCAB  Guaymaral  ...   mg/m3  153.0  118.3\n",
              "2015-01-01 04:00:00 2015-01-01 04:00:00  RMCAB  Guaymaral  ...   mg/m3  120.0   94.3\n",
              "2015-01-01 05:00:00 2015-01-01 05:00:00  RMCAB  Guaymaral  ...   mg/m3   57.0   40.2\n",
              "2015-01-01 06:00:00 2015-01-01 06:00:00  RMCAB  Guaymaral  ...   mg/m3   53.0   37.0\n",
              "2015-01-01 07:00:00 2015-01-01 07:00:00  RMCAB  Guaymaral  ...   mg/m3   61.0   41.2\n",
              "2015-01-01 08:00:00 2015-01-01 08:00:00  RMCAB  Guaymaral  ...   mg/m3   43.0   33.7\n",
              "2015-01-01 09:00:00 2015-01-01 09:00:00  RMCAB  Guaymaral  ...   mg/m3   51.0   18.7\n",
              "2015-01-01 10:00:00 2015-01-01 10:00:00  RMCAB  Guaymaral  ...   mg/m3   39.0   24.2\n",
              "\n",
              "[10 rows x 11 columns]"
            ]
          },
          "metadata": {
            "tags": []
          },
          "execution_count": 115
        }
      ]
    },
    {
      "cell_type": "code",
      "metadata": {
        "colab": {
          "base_uri": "https://localhost:8080/"
        },
        "id": "ah2HBOM2mvO9",
        "outputId": "601d1ed2-a246-477b-87a4-fc13c27c52ad"
      },
      "source": [
        "# Split into training, validation and test datasets.\n",
        "# Since it's timeseries we should do it by date.\n",
        "test_cutoff_date = guaymaral['Fecha'].max() - timedelta(days=7)\n",
        "val_cutoff_date = test_cutoff_date - timedelta(days=14)\n",
        "\n",
        "\n",
        "df_test = guaymaral[guaymaral['Fecha'] > test_cutoff_date]\n",
        "df_val = guaymaral[(guaymaral['Fecha'] > val_cutoff_date) & (guaymaral['Fecha'] <= test_cutoff_date)]\n",
        "df_train = guaymaral[(guaymaral['Fecha'] <= val_cutoff_date)]\n",
        "df_train.dropna(axis = 0)\n",
        "\n",
        "#check out the datasets\n",
        "print('Test dates: {} to {}'.format(df_test['Fecha'].min(), df_test['Fecha'].max()))\n",
        "print('Validation dates: {} to {}'.format(df_val['Fecha'].min(), df_val['Fecha'].max()))\n",
        "print('Train dates: {} to {}'.format(df_train['Fecha'].min(), df_train['Fecha'].max()))"
      ],
      "execution_count": 116,
      "outputs": [
        {
          "output_type": "stream",
          "text": [
            "Test dates: 2021-04-01 17:00:00 to 2021-04-08 16:00:00\n",
            "Validation dates: 2021-03-18 17:00:00 to 2021-04-01 16:00:00\n",
            "Train dates: 2015-01-01 01:00:00 to 2021-03-18 16:00:00\n"
          ],
          "name": "stdout"
        }
      ]
    },
    {
      "cell_type": "code",
      "metadata": {
        "id": "CdebIEZwD86F"
      },
      "source": [
        "def create_ts_files(dataset, \n",
        "                    start_index, \n",
        "                    end_index, \n",
        "                    history_length, \n",
        "                    step_size, \n",
        "                    target_step, \n",
        "                    num_rows_per_file, \n",
        "                    data_folder):\n",
        "    assert step_size > 0\n",
        "    assert start_index >= 0\n",
        "    \n",
        "    if not os.path.exists(data_folder):\n",
        "        os.makedirs(data_folder)\n",
        "    \n",
        "    time_lags = sorted(range(target_step+1, target_step+history_length+1, step_size), reverse=True)\n",
        "    col_names = [f'x_lag{i}' for i in time_lags] + ['y']\n",
        "    start_index = start_index + history_length\n",
        "    if end_index is None:\n",
        "        end_index = len(dataset) - target_step\n",
        "    \n",
        "    rng = range(start_index, end_index)\n",
        "    num_rows = len(rng)\n",
        "    num_files = math.ceil(num_rows/num_rows_per_file)\n",
        "    \n",
        "    # for each file.\n",
        "    print(f'Creating {num_files} files.')\n",
        "    for i in range(num_files):\n",
        "        filename = f'{data_folder}/ts_file{i}.pkl'\n",
        "        \n",
        "        if i % 10 == 0:\n",
        "            print(f'{filename}')\n",
        "            \n",
        "        # get the start and end indices.\n",
        "        ind0 = i*num_rows_per_file\n",
        "        ind1 = min(ind0 + num_rows_per_file, end_index)\n",
        "        data_list = []\n",
        "        \n",
        "        # j in the current timestep. Will need j-n to j-1 for the history. And j + target_step for the target.\n",
        "        for j in range(ind0, ind1):\n",
        "            indices = range(j-1, j-history_length-1, -step_size)\n",
        "            data = dataset[sorted(indices) + [j+target_step]]\n",
        "            \n",
        "            # append data to the list.\n",
        "            data_list.append(data)\n",
        "\n",
        "        df_ts = pd.DataFrame(data=data_list, columns=col_names)\n",
        "        df_ts.to_pickle(filename)\n",
        "            \n",
        "    return len(col_names)-1"
      ],
      "execution_count": 117,
      "outputs": []
    },
    {
      "cell_type": "code",
      "metadata": {
        "colab": {
          "base_uri": "https://localhost:8080/"
        },
        "id": "Btjln_q4EAG6",
        "outputId": "d7be9999-6c04-4221-9492-53480eba025a"
      },
      "source": [
        "%%time\n",
        "\n",
        "global_active_power = df_train['PM10'].values\n",
        "\n",
        "# Scaled to work with Neural networks.\n",
        "scaler = MinMaxScaler(feature_range=(0, 1))\n",
        "global_active_power_scaled = scaler.fit_transform(global_active_power.reshape(-1, 1)).reshape(-1, )\n",
        "\n",
        "history_length = 7*24*60  # The history length in minutes.\n",
        "step_size = 10  # The sampling rate of the history. Eg. If step_size = 1, then values from every minute will be in the history.\n",
        "                #                                       If step size = 10 then values every 10 minutes will be in the history.\n",
        "target_step = 10  # The time step in the future to predict. Eg. If target_step = 0, then predict the next timestep after the end of the history period.\n",
        "                  #                                             If target_step = 10 then predict 10 timesteps the next timestep (11 minutes after the end of history).\n",
        "\n",
        "# The csv creation returns the number of rows and number of features. We need these values below.\n",
        "num_timesteps = create_ts_files(global_active_power_scaled,\n",
        "                                start_index=0,\n",
        "                                end_index=None,\n",
        "                                history_length=history_length,\n",
        "                                step_size=step_size,\n",
        "                                target_step=target_step,\n",
        "                                num_rows_per_file=128*100,\n",
        "                                data_folder='ts_data')"
      ],
      "execution_count": 118,
      "outputs": [
        {
          "output_type": "stream",
          "text": [
            "Creating 4 files.\n",
            "ts_data/ts_file0.pkl\n",
            "CPU times: user 27.4 s, sys: 2.54 s, total: 29.9 s\n",
            "Wall time: 29.6 s\n"
          ],
          "name": "stdout"
        }
      ]
    },
    {
      "cell_type": "code",
      "metadata": {
        "id": "A3lCXsUTEUKS"
      },
      "source": [
        "class TimeSeriesLoader:\n",
        "    def __init__(self, ts_folder, filename_format):\n",
        "        self.ts_folder = ts_folder\n",
        "        \n",
        "        # find the number of files.\n",
        "        i = 0\n",
        "        file_found = True\n",
        "        while file_found:\n",
        "            filename = self.ts_folder + '/' + filename_format.format(i)\n",
        "            file_found = os.path.exists(filename)\n",
        "            if file_found:\n",
        "                i += 1\n",
        "                \n",
        "        self.num_files = i\n",
        "        self.files_indices = np.arange(self.num_files)\n",
        "        self.shuffle_chunks()\n",
        "        \n",
        "    def num_chunks(self):\n",
        "        return self.num_files\n",
        "    \n",
        "    def get_chunk(self, idx):\n",
        "        assert (idx >= 0) and (idx < self.num_files)\n",
        "        \n",
        "        ind = self.files_indices[idx]\n",
        "        filename = self.ts_folder + '/' + filename_format.format(ind)\n",
        "        df_ts = pd.read_pickle(filename)\n",
        "        num_records = len(df_ts.index)\n",
        "        \n",
        "        features = df_ts.drop('y', axis=1).values\n",
        "        target = df_ts['y'].values\n",
        "        \n",
        "        # reshape for input into LSTM. Batch major format.\n",
        "        features_batchmajor = np.array(features).reshape(num_records, -1, 1)\n",
        "        return features_batchmajor, target\n",
        "    \n",
        "    # this shuffles the order the chunks will be outputted from get_chunk.\n",
        "    def shuffle_chunks(self):\n",
        "        np.random.shuffle(self.files_indices)"
      ],
      "execution_count": 127,
      "outputs": []
    },
    {
      "cell_type": "code",
      "metadata": {
        "id": "axFpp92lEXHX"
      },
      "source": [
        "ts_folder = 'ts_data'\n",
        "filename_format = 'ts_file{}.pkl'\n",
        "tss = TimeSeriesLoader(ts_folder, filename_format)"
      ],
      "execution_count": 128,
      "outputs": []
    },
    {
      "cell_type": "code",
      "metadata": {
        "id": "t4IvsogkEc_u"
      },
      "source": [
        "ts_inputs = tf.keras.Input(shape=(num_timesteps, 1))\n",
        "\n",
        "# units=10 -> The cell and hidden states will be of dimension 10.\n",
        "#             The number of parameters that need to be trained = 4*units*(units+2)\n",
        "x = layers.LSTM(units=10)(ts_inputs)\n",
        "x = layers.Dropout(0.2)(x)\n",
        "outputs = layers.Dense(1, activation='linear')(x)\n",
        "model = tf.keras.Model(inputs=ts_inputs, outputs=outputs)"
      ],
      "execution_count": 129,
      "outputs": []
    },
    {
      "cell_type": "code",
      "metadata": {
        "colab": {
          "base_uri": "https://localhost:8080/"
        },
        "id": "RIB2JbMxEnXw",
        "outputId": "5a453c91-5303-4ede-ef15-b90688a1675c"
      },
      "source": [
        "model.compile(optimizer=tf.keras.optimizers.SGD(learning_rate=0.01),\n",
        "              loss=tf.keras.losses.MeanSquaredError(),\n",
        "              metrics=['mse'])\n",
        "\n",
        "model.summary()"
      ],
      "execution_count": 130,
      "outputs": [
        {
          "output_type": "stream",
          "text": [
            "Model: \"model_1\"\n",
            "_________________________________________________________________\n",
            "Layer (type)                 Output Shape              Param #   \n",
            "=================================================================\n",
            "input_2 (InputLayer)         [(None, 1008, 1)]         0         \n",
            "_________________________________________________________________\n",
            "lstm_1 (LSTM)                (None, 10)                480       \n",
            "_________________________________________________________________\n",
            "dropout_1 (Dropout)          (None, 10)                0         \n",
            "_________________________________________________________________\n",
            "dense_1 (Dense)              (None, 1)                 11        \n",
            "=================================================================\n",
            "Total params: 491\n",
            "Trainable params: 491\n",
            "Non-trainable params: 0\n",
            "_________________________________________________________________\n"
          ],
          "name": "stdout"
        }
      ]
    },
    {
      "cell_type": "code",
      "metadata": {
        "colab": {
          "base_uri": "https://localhost:8080/"
        },
        "id": "ak8VtzNDEqT3",
        "outputId": "364febbe-e5c4-4e32-e5f9-9f73096e8154"
      },
      "source": [
        "%%time\n",
        "\n",
        "# train in batch sizes of 128.\n",
        "BATCH_SIZE = 128\n",
        "NUM_EPOCHS = 1\n",
        "NUM_CHUNKS = tss.num_chunks()\n",
        "\n",
        "for epoch in range(NUM_EPOCHS):\n",
        "    print('epoch #{}'.format(epoch))\n",
        "    for i in range(NUM_CHUNKS):\n",
        "        X, y = tss.get_chunk(i)\n",
        "        \n",
        "        # model.fit does train the model incrementally. ie. Can call multiple times in batches.\n",
        "        # https://github.com/keras-team/keras/issues/4446\n",
        "        model.fit(x=X, y=y, batch_size=BATCH_SIZE)\n",
        "        \n",
        "    # shuffle the chunks so they're not in the same order next time around.\n",
        "    tss.shuffle_chunks()"
      ],
      "execution_count": 131,
      "outputs": [
        {
          "output_type": "stream",
          "text": [
            "epoch #0\n",
            "100/100 [==============================] - 23s 221ms/step - loss: nan - mse: nan\n",
            "100/100 [==============================] - 22s 219ms/step - loss: nan - mse: nan\n",
            "100/100 [==============================] - 22s 222ms/step - loss: nan - mse: nan\n",
            "100/100 [==============================] - 22s 223ms/step - loss: nan - mse: nan\n",
            "CPU times: user 2min 35s, sys: 6.83 s, total: 2min 42s\n",
            "Wall time: 2min 8s\n"
          ],
          "name": "stdout"
        }
      ]
    },
    {
      "cell_type": "code",
      "metadata": {
        "colab": {
          "base_uri": "https://localhost:8080/"
        },
        "id": "shYvJimoFfD6",
        "outputId": "1d41ea7c-54f3-4be3-ee6a-7263aa647c72"
      },
      "source": [
        "global_active_power_val = df_val['PM10'].values\n",
        "global_active_power_val_scaled = scaler.transform(global_active_power_val.reshape(-1, 1)).reshape(-1, )\n",
        "\n",
        "history_length = 7*24*60  # The history length in minutes.\n",
        "step_size = 10  # The sampling rate of the history. Eg. If step_size = 1, then values from every minute will be in the history.\n",
        "                #                                       If step size = 10 then values every 10 minutes will be in the history.\n",
        "target_step = 10  # The time step in the future to predict. Eg. If target_step = 0, then predict the next timestep after the end of the history period.\n",
        "                  #                                             If target_step = 10 then predict 10 timesteps the next timestep (11 minutes after the end of history).\n",
        "\n",
        "# The csv creation returns the number of rows and number of features. We need these values below.\n",
        "num_timesteps = create_ts_files(global_active_power_val_scaled,\n",
        "                                start_index=0,\n",
        "                                end_index=None,\n",
        "                                history_length=history_length,\n",
        "                                step_size=step_size,\n",
        "                                target_step=target_step,\n",
        "                                num_rows_per_file=128*100,\n",
        "                                data_folder='ts_val_data')"
      ],
      "execution_count": 133,
      "outputs": [
        {
          "output_type": "stream",
          "text": [
            "Creating 0 files.\n"
          ],
          "name": "stdout"
        }
      ]
    },
    {
      "cell_type": "code",
      "metadata": {
        "colab": {
          "base_uri": "https://localhost:8080/",
          "height": 374
        },
        "id": "wJZH31wZHjV9",
        "outputId": "5d577953-4875-433f-8eb6-0cca3689e726"
      },
      "source": [
        "df_val_ts = pd.read_pickle('ts_val_data/ts_file0.pkl')\n",
        "\n",
        "features = df_val_ts.drop('y', axis=1).values\n",
        "features_arr = np.array(features)\n",
        "\n",
        "# reshape for input into LSTM. Batch major format.\n",
        "num_records = len(df_val_ts.index)\n",
        "features_batchmajor = features_arr.reshape(num_records, -1, 1)\n",
        "\n",
        "\n",
        "y_pred = model.predict(features_batchmajor).reshape(-1, )\n",
        "y_pred = scaler.inverse_transform(y_pred.reshape(-1, 1)).reshape(-1 ,)\n",
        "\n",
        "y_act = df_val_ts['y'].values\n",
        "y_act = scaler.inverse_transform(y_act.reshape(-1, 1)).reshape(-1 ,)\n",
        "\n",
        "print('validation mean squared error: {}'.format(mean_squared_error(y_act, y_pred)))\n",
        "\n",
        "#baseline\n",
        "y_pred_baseline = df_val_ts['x_lag11'].values\n",
        "y_pred_baseline = scaler.inverse_transform(y_pred_baseline.reshape(-1, 1)).reshape(-1 ,)\n",
        "print('validation baseline mean squared error: {}'.format(mean_squared_error(y_act, y_pred_baseline)))"
      ],
      "execution_count": 135,
      "outputs": [
        {
          "output_type": "error",
          "ename": "FileNotFoundError",
          "evalue": "ignored",
          "traceback": [
            "\u001b[0;31m---------------------------------------------------------------------------\u001b[0m",
            "\u001b[0;31mFileNotFoundError\u001b[0m                         Traceback (most recent call last)",
            "\u001b[0;32m<ipython-input-135-6449e12d2627>\u001b[0m in \u001b[0;36m<module>\u001b[0;34m()\u001b[0m\n\u001b[0;32m----> 1\u001b[0;31m \u001b[0mdf_val_ts\u001b[0m \u001b[0;34m=\u001b[0m \u001b[0mpd\u001b[0m\u001b[0;34m.\u001b[0m\u001b[0mread_pickle\u001b[0m\u001b[0;34m(\u001b[0m\u001b[0;34m'ts_val_data/ts_file0.pkl'\u001b[0m\u001b[0;34m)\u001b[0m\u001b[0;34m\u001b[0m\u001b[0;34m\u001b[0m\u001b[0m\n\u001b[0m\u001b[1;32m      2\u001b[0m \u001b[0;34m\u001b[0m\u001b[0m\n\u001b[1;32m      3\u001b[0m \u001b[0mfeatures\u001b[0m \u001b[0;34m=\u001b[0m \u001b[0mdf_val_ts\u001b[0m\u001b[0;34m.\u001b[0m\u001b[0mdrop\u001b[0m\u001b[0;34m(\u001b[0m\u001b[0;34m'y'\u001b[0m\u001b[0;34m,\u001b[0m \u001b[0maxis\u001b[0m\u001b[0;34m=\u001b[0m\u001b[0;36m1\u001b[0m\u001b[0;34m)\u001b[0m\u001b[0;34m.\u001b[0m\u001b[0mvalues\u001b[0m\u001b[0;34m\u001b[0m\u001b[0;34m\u001b[0m\u001b[0m\n\u001b[1;32m      4\u001b[0m \u001b[0mfeatures_arr\u001b[0m \u001b[0;34m=\u001b[0m \u001b[0mnp\u001b[0m\u001b[0;34m.\u001b[0m\u001b[0marray\u001b[0m\u001b[0;34m(\u001b[0m\u001b[0mfeatures\u001b[0m\u001b[0;34m)\u001b[0m\u001b[0;34m\u001b[0m\u001b[0;34m\u001b[0m\u001b[0m\n\u001b[1;32m      5\u001b[0m \u001b[0;34m\u001b[0m\u001b[0m\n",
            "\u001b[0;32m/usr/local/lib/python3.7/dist-packages/pandas/io/pickle.py\u001b[0m in \u001b[0;36mread_pickle\u001b[0;34m(filepath_or_buffer, compression)\u001b[0m\n\u001b[1;32m    167\u001b[0m     \u001b[0;32mif\u001b[0m \u001b[0;32mnot\u001b[0m \u001b[0misinstance\u001b[0m\u001b[0;34m(\u001b[0m\u001b[0mfp_or_buf\u001b[0m\u001b[0;34m,\u001b[0m \u001b[0mstr\u001b[0m\u001b[0;34m)\u001b[0m \u001b[0;32mand\u001b[0m \u001b[0mcompression\u001b[0m \u001b[0;34m==\u001b[0m \u001b[0;34m\"infer\"\u001b[0m\u001b[0;34m:\u001b[0m\u001b[0;34m\u001b[0m\u001b[0;34m\u001b[0m\u001b[0m\n\u001b[1;32m    168\u001b[0m         \u001b[0mcompression\u001b[0m \u001b[0;34m=\u001b[0m \u001b[0;32mNone\u001b[0m\u001b[0;34m\u001b[0m\u001b[0;34m\u001b[0m\u001b[0m\n\u001b[0;32m--> 169\u001b[0;31m     \u001b[0mf\u001b[0m\u001b[0;34m,\u001b[0m \u001b[0mfh\u001b[0m \u001b[0;34m=\u001b[0m \u001b[0mget_handle\u001b[0m\u001b[0;34m(\u001b[0m\u001b[0mfp_or_buf\u001b[0m\u001b[0;34m,\u001b[0m \u001b[0;34m\"rb\"\u001b[0m\u001b[0;34m,\u001b[0m \u001b[0mcompression\u001b[0m\u001b[0;34m=\u001b[0m\u001b[0mcompression\u001b[0m\u001b[0;34m,\u001b[0m \u001b[0mis_text\u001b[0m\u001b[0;34m=\u001b[0m\u001b[0;32mFalse\u001b[0m\u001b[0;34m)\u001b[0m\u001b[0;34m\u001b[0m\u001b[0;34m\u001b[0m\u001b[0m\n\u001b[0m\u001b[1;32m    170\u001b[0m \u001b[0;34m\u001b[0m\u001b[0m\n\u001b[1;32m    171\u001b[0m     \u001b[0;31m# 1) try standard library Pickle\u001b[0m\u001b[0;34m\u001b[0m\u001b[0;34m\u001b[0m\u001b[0;34m\u001b[0m\u001b[0m\n",
            "\u001b[0;32m/usr/local/lib/python3.7/dist-packages/pandas/io/common.py\u001b[0m in \u001b[0;36mget_handle\u001b[0;34m(path_or_buf, mode, encoding, compression, memory_map, is_text, errors)\u001b[0m\n\u001b[1;32m    497\u001b[0m         \u001b[0;32melse\u001b[0m\u001b[0;34m:\u001b[0m\u001b[0;34m\u001b[0m\u001b[0;34m\u001b[0m\u001b[0m\n\u001b[1;32m    498\u001b[0m             \u001b[0;31m# Binary mode\u001b[0m\u001b[0;34m\u001b[0m\u001b[0;34m\u001b[0m\u001b[0;34m\u001b[0m\u001b[0m\n\u001b[0;32m--> 499\u001b[0;31m             \u001b[0mf\u001b[0m \u001b[0;34m=\u001b[0m \u001b[0mopen\u001b[0m\u001b[0;34m(\u001b[0m\u001b[0mpath_or_buf\u001b[0m\u001b[0;34m,\u001b[0m \u001b[0mmode\u001b[0m\u001b[0;34m)\u001b[0m\u001b[0;34m\u001b[0m\u001b[0;34m\u001b[0m\u001b[0m\n\u001b[0m\u001b[1;32m    500\u001b[0m         \u001b[0mhandles\u001b[0m\u001b[0;34m.\u001b[0m\u001b[0mappend\u001b[0m\u001b[0;34m(\u001b[0m\u001b[0mf\u001b[0m\u001b[0;34m)\u001b[0m\u001b[0;34m\u001b[0m\u001b[0;34m\u001b[0m\u001b[0m\n\u001b[1;32m    501\u001b[0m \u001b[0;34m\u001b[0m\u001b[0m\n",
            "\u001b[0;31mFileNotFoundError\u001b[0m: [Errno 2] No such file or directory: 'ts_val_data/ts_file0.pkl'"
          ]
        }
      ]
    }
  ]
}
